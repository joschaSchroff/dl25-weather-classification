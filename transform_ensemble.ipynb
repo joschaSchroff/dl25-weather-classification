{
 "cells": [
  {
   "cell_type": "code",
   "execution_count": 13,
   "metadata": {},
   "outputs": [
    {
     "data": {
      "text/plain": [
       "_IncompatibleKeys(missing_keys=[], unexpected_keys=['criterion.weight'])"
      ]
     },
     "execution_count": 13,
     "metadata": {},
     "output_type": "execute_result"
    }
   ],
   "source": [
    "import model\n",
    "import torch\n",
    "from data_loading import WeatherDataModule\n",
    "import torchvision.transforms as transforms\n",
    "\n",
    "model = model.get_base_model(\"efficientnetb1\", 11)\n",
    "state_dict = torch.load(\"models/efficientnetb1-val_acc=0.93.ckpt\", map_location=torch.device('cpu'))['state_dict']\n",
    "for key in list(state_dict.keys()):\n",
    "    state_dict[key.replace(\"model.\", \"\")] = state_dict.pop(key)\n",
    "model.load_state_dict(state_dict,strict=False)"
   ]
  },
  {
   "cell_type": "code",
   "execution_count": null,
   "metadata": {},
   "outputs": [],
   "source": [
    "def get_all_val_transforms():\n",
    "    # Define different validation transformations\n",
    "    return [\n",
    "        transforms.Compose([\n",
    "            transforms.Resize((224, 224)),\n",
    "            transforms.ToTensor(),\n",
    "            transforms.Normalize(mean=[0.485, 0.456, 0.406], std=[0.229, 0.224, 0.225]) # Default val_transform\n",
    "        ]),\n",
    "        transforms.Compose([\n",
    "            transforms.Resize((224, 224)),\n",
    "            transforms.RandomHorizontalFlip(),\n",
    "            transforms.ToTensor(),\n",
    "            transforms.Normalize(mean=[0.485, 0.456, 0.406], std=[0.229, 0.224, 0.225])\n",
    "        ]),\n",
    "        transforms.Compose([\n",
    "            transforms.Resize((224, 224)),\n",
    "            transforms.RandomRotation(15),\n",
    "            transforms.ToTensor(),\n",
    "            transforms.Normalize(mean=[0.485, 0.456, 0.406], std=[0.229, 0.224, 0.225])\n",
    "        ]),\n",
    "        transforms.Compose([\n",
    "            transforms.Resize((224, 224)),\n",
    "            transforms.ColorJitter(brightness=0.5, contrast=0.5, saturation=0.5, hue=0.1),\n",
    "            transforms.ToTensor(),\n",
    "            transforms.Normalize(mean=[0.485, 0.456, 0.406], std=[0.229, 0.224, 0.225])\n",
    "        ]),\n",
    "        transforms.Compose([\n",
    "            transforms.Resize((224, 224)),\n",
    "            transforms.RandomResizedCrop(size=(224, 224), scale=(0.5, 1.0)),\n",
    "            transforms.ToTensor(),\n",
    "            transforms.Normalize(mean=[0.485, 0.456, 0.406], std=[0.229, 0.224, 0.225])\n",
    "        ])\n",
    "    ]\n",
    "\n",
    "val_transforms_list = get_all_val_transforms()"
   ]
  },
  {
   "cell_type": "code",
   "execution_count": 15,
   "metadata": {},
   "outputs": [],
   "source": [
    "val_dataloaders = []\n",
    "for transforms in val_transforms_list:\n",
    "    datamodule = WeatherDataModule(\"./data/weather-dataset\", 32, 1, transforms, transforms)\n",
    "    datamodule.setup()\n",
    "    val_dataloaders.append(datamodule.val_dataloader())"
   ]
  },
  {
   "cell_type": "code",
   "execution_count": 16,
   "metadata": {},
   "outputs": [],
   "source": [
    "X_vals = []\n",
    "y_vals = []\n",
    "for val_dataloader in val_dataloaders:\n",
    "    X_batch = []\n",
    "    y_batch = []\n",
    "    for images, labels in val_dataloader:\n",
    "        X_batch.append(images)\n",
    "        y_batch.append(labels)\n",
    "    X_vals.append(torch.cat(X_batch))\n",
    "    y_vals.append(torch.cat(y_batch))"
   ]
  },
  {
   "cell_type": "code",
   "execution_count": 17,
   "metadata": {},
   "outputs": [
    {
     "name": "stdout",
     "output_type": "stream",
     "text": [
      "Ensemble accuracy max vote: 0.9291\n",
      "Ensemble accuracy mean vote: 0.9329\n"
     ]
    }
   ],
   "source": [
    "y_val = y_vals[0]\n",
    "\n",
    "device = \"cuda\" if torch.cuda.is_available() else \"cpu\"\n",
    "model.to(device)\n",
    "model.eval()\n",
    "\n",
    "predictions = []\n",
    "with torch.no_grad():\n",
    "    for X_val in X_vals:\n",
    "        X_val = X_val.to(device)\n",
    "        preds = model(X_val)\n",
    "        predictions.append(preds)\n",
    "\n",
    "# Max Vote approach\n",
    "predictions = torch.stack(predictions)\n",
    "final_predictions = torch.mode(predictions, dim=0).values  # Majority voting\n",
    "final_predictions = torch.argmax(final_predictions, dim=1)\n",
    "y_val = y_val.to(device)\n",
    "accuracy = (final_predictions == y_val).float().mean().item()\n",
    "print(f\"Ensemble accuracy max vote: {accuracy:.4f}\")\n",
    "\n",
    "# Mean vote approach\n",
    "predictions = predictions.mean(dim=0)\n",
    "final_predictions = torch.argmax(predictions, dim=1)\n",
    "accuracy = (final_predictions == y_val).float().mean().item()\n",
    "print(f\"Ensemble accuracy mean vote: {accuracy:.4f}\")"
   ]
  }
 ],
 "metadata": {
  "kernelspec": {
   "display_name": "venv",
   "language": "python",
   "name": "python3"
  },
  "language_info": {
   "codemirror_mode": {
    "name": "ipython",
    "version": 3
   },
   "file_extension": ".py",
   "mimetype": "text/x-python",
   "name": "python",
   "nbconvert_exporter": "python",
   "pygments_lexer": "ipython3",
   "version": "3.13.1"
  }
 },
 "nbformat": 4,
 "nbformat_minor": 2
}

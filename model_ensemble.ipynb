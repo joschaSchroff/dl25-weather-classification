{
 "cells": [
  {
   "cell_type": "code",
   "execution_count": null,
   "metadata": {},
   "outputs": [],
   "source": [
    "import model\n",
    "from data_loading import get_val_transforms, WeatherDataModule\n",
    "import torch\n",
    "import numpy as np\n",
    "\n",
    "model1 = model.get_base_model(\"resnet50\", 11)\n",
    "state_dict = torch.load(\"models/resnet50-val_acc=0.90.ckpt\")['state_dict']\n",
    "for key in list(state_dict.keys()):\n",
    "    state_dict[key.replace(\"model.\", \"\")] = state_dict.pop(key)\n",
    "model1.load_state_dict(state_dict)\n",
    "model2 = model.get_base_model(\"efficientnetb0\", 11)\n",
    "state_dict = torch.load(\"models/efficientnetb0-val_acc=0.92.ckpt\")['state_dict']\n",
    "for key in list(state_dict.keys()):\n",
    "    state_dict[key.replace(\"model.\", \"\")] = state_dict.pop(key)\n",
    "model2.load_state_dict(state_dict)\n",
    "model3 = model.get_base_model(\"efficientnetb1\", 11)\n",
    "state_dict = torch.load(\"models/efficientnetb1-val_acc=0.92.ckpt\")['state_dict']\n",
    "for key in list(state_dict.keys()):\n",
    "    state_dict[key.replace(\"model.\", \"\")] = state_dict.pop(key)\n",
    "model3.load_state_dict(state_dict)\n",
    "model4 = model.get_base_model(\"mobilenet\", 11)\n",
    "state_dict = torch.load(\"models/mobilenet-val_acc=0.90.ckpt\")['state_dict']\n",
    "for key in list(state_dict.keys()):\n",
    "    state_dict[key.replace(\"model.\", \"\")] = state_dict.pop(key)\n",
    "model4.load_state_dict(state_dict)\n",
    "model5 = model.get_base_model(\"swin\", 11)\n",
    "state_dict = torch.load(\"models/swin-val_acc=0.93.ckpt\")['state_dict']\n",
    "for key in list(state_dict.keys()):\n",
    "    state_dict[key.replace(\"model.\", \"\")] = state_dict.pop(key)\n",
    "model5.load_state_dict(state_dict)\n",
    "\n",
    "models = [model1, model2, model3, model4, model5]\n",
    "model_names = [\"resnet50\", \"efficientnetb0\", \"efficientnetb1\", \"mobilenet\", \"swin\"]"
   ]
  },
  {
   "cell_type": "code",
   "execution_count": null,
   "metadata": {},
   "outputs": [],
   "source": [
    "datamodule = WeatherDataModule(\"./data/weather-dataset\", 32, 1, get_val_transforms(), get_val_transforms())\n",
    "datamodule.setup()\n",
    "val_dataloader = datamodule.val_dataloader()\n",
    "X_val = []\n",
    "y_val = []\n",
    "for images, labels in val_dataloader:\n",
    "    X_val.append(images)\n",
    "    y_val.append(labels)\n",
    "X_val = torch.cat(X_val)\n",
    "y_val = torch.cat(y_val)"
   ]
  },
  {
   "cell_type": "code",
   "execution_count": null,
   "metadata": {},
   "outputs": [],
   "source": [
    "predictions = []\n",
    "X_val = X_val.to(\"cuda\")\n",
    "for model in models:\n",
    "    print(f\"Running model {model_names[models.index(model)]}\")\n",
    "    model.to(\"cuda\")\n",
    "    model.eval()\n",
    "    with torch.no_grad():\n",
    "        predictions.append(model(X_val))\n",
    "predictions = torch.stack(predictions)\n",
    "final_predictions = torch.mode(predictions, dim=0).values\n",
    "final_predictions = torch.argmax(final_predictions, dim=1)\n",
    "y_val = y_val.to(\"cuda\")\n",
    "accuracy = (final_predictions == y_val).float().mean().item()\n",
    "print(f\"Ensemble accuracy: {accuracy:.2f}\")"
   ]
  }
 ],
 "metadata": {
  "kernelspec": {
   "display_name": "base",
   "language": "python",
   "name": "python3"
  },
  "language_info": {
   "codemirror_mode": {
    "name": "ipython",
    "version": 3
   },
   "file_extension": ".py",
   "mimetype": "text/x-python",
   "name": "python",
   "nbconvert_exporter": "python",
   "pygments_lexer": "ipython3",
   "version": "3.12.2"
  }
 },
 "nbformat": 4,
 "nbformat_minor": 2
}

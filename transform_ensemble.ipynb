{
 "cells": [
  {
   "cell_type": "code",
   "execution_count": 1,
   "metadata": {},
   "outputs": [
    {
     "name": "stderr",
     "output_type": "stream",
     "text": [
      "/tmp/ipykernel_21777/4013047163.py:10: FutureWarning: You are using `torch.load` with `weights_only=False` (the current default value), which uses the default pickle module implicitly. It is possible to construct malicious pickle data which will execute arbitrary code during unpickling (See https://github.com/pytorch/pytorch/blob/main/SECURITY.md#untrusted-models for more details). In a future release, the default value for `weights_only` will be flipped to `True`. This limits the functions that could be executed during unpickling. Arbitrary objects will no longer be allowed to be loaded via this mode unless they are explicitly allowlisted by the user via `torch.serialization.add_safe_globals`. We recommend you start setting `weights_only=True` for any use case where you don't have full control of the loaded file. Please open an issue on GitHub for any issues related to this experimental feature.\n",
      "  state_dict = torch.load(ckpt_path, map_location=torch.device('cpu'))['state_dict']\n",
      "/home/joscha/miniconda3/lib/python3.12/site-packages/torchvision/models/_utils.py:135: UserWarning: Using 'weights' as positional parameter(s) is deprecated since 0.13 and may be removed in the future. Please use keyword parameter(s) instead.\n",
      "  warnings.warn(\n"
     ]
    }
   ],
   "source": [
    "import model as m\n",
    "import torch\n",
    "from data_loading import WeatherDataModule, get_transforms\n",
    "\n",
    "model_names = [\"efficientnetb0\", \"efficientnetb1\", \"mobilenet\", \"resnet50\", \"swin\"]\n",
    "ckpt_paths = [\"models/efficientnetb0-val_acc=0.93.ckpt\", \"models/efficientnetb1-val_acc=0.92.ckpt\", \"models/mobilenet-val_acc=0.90.ckpt\", \"models/resnet50-val_acc=0.93.ckpt\", \"models/swin-val_acc=0.93.ckpt\"]\n",
    "models = []\n",
    "for model_name, ckpt_path in zip(model_names, ckpt_paths):\n",
    "    model = m.get_base_model(model_name, 11)\n",
    "    state_dict = torch.load(ckpt_path, map_location=torch.device('cpu'))['state_dict']\n",
    "    for key in list(state_dict.keys()):\n",
    "        state_dict[key.replace(\"model.\", \"\")] = state_dict.pop(key)\n",
    "    model.load_state_dict(state_dict,strict=False)\n",
    "    models.append(model)\n",
    "model_names = [\"resnet50\", \"efficientnetb0\", \"efficientnetb1\", \"mobilenet\", \"swin\"]"
   ]
  },
  {
   "cell_type": "code",
   "execution_count": 2,
   "metadata": {},
   "outputs": [],
   "source": [
    "datamodule = WeatherDataModule(\"./data/weather-dataset\", 32, 1, get_transforms(), get_transforms())\n",
    "datamodule.setup()\n",
    "test_dataloader = datamodule.test_dataloader()"
   ]
  },
  {
   "cell_type": "code",
   "execution_count": 3,
   "metadata": {},
   "outputs": [],
   "source": [
    "X_vals = []\n",
    "y_vals = []\n",
    "for _ in range(5):\n",
    "    X_batch = []\n",
    "    y_batch = []\n",
    "    for images, labels in test_dataloader:\n",
    "        X_batch.append(images)\n",
    "        y_batch.append(labels)\n",
    "    X_vals.append(torch.cat(X_batch))\n",
    "    y_vals.append(torch.cat(y_batch))"
   ]
  },
  {
   "cell_type": "code",
   "execution_count": 5,
   "metadata": {},
   "outputs": [
    {
     "name": "stdout",
     "output_type": "stream",
     "text": [
      "Model: resnet50\n",
      "\tEnsemble accuracy max vote: 0.8913\n",
      "\tEnsemble accuracy mean vote: 0.9058\n",
      "Model: efficientnetb0\n",
      "\tEnsemble accuracy max vote: 0.8806\n",
      "\tEnsemble accuracy mean vote: 0.9117\n",
      "Model: efficientnetb1\n",
      "\tEnsemble accuracy max vote: 0.8223\n",
      "\tEnsemble accuracy mean vote: 0.8544\n",
      "Model: mobilenet\n",
      "\tEnsemble accuracy max vote: 0.8825\n",
      "\tEnsemble accuracy mean vote: 0.9000\n",
      "Model: swin\n",
      "\tEnsemble accuracy max vote: 0.9243\n",
      "\tEnsemble accuracy mean vote: 0.9320\n"
     ]
    }
   ],
   "source": [
    "for model, model_name in zip(models, model_names):\n",
    "    print(f\"Model: {model_name}\")  \n",
    "    y_val = y_vals[0]\n",
    "\n",
    "    device = \"cuda\" if torch.cuda.is_available() else \"cpu\"\n",
    "    model.to(device)\n",
    "    model.eval()\n",
    "\n",
    "    predictions = []\n",
    "    with torch.no_grad():\n",
    "        for X_val in X_vals:\n",
    "            val_preds = []\n",
    "            for batch in X_val.split(32):\n",
    "                batch = batch.to(device)\n",
    "                batch_preds = model(batch)\n",
    "                val_preds.append(batch_preds)\n",
    "            predictions.append(torch.cat(val_preds))\n",
    "\n",
    "    # Max Vote approach\n",
    "    predictions = torch.stack(predictions)\n",
    "    final_predictions = torch.mode(predictions, dim=0).values  # Majority voting\n",
    "    final_predictions = torch.argmax(final_predictions, dim=1)\n",
    "    y_val = y_val.to(device)\n",
    "    accuracy = (final_predictions == y_val).float().mean().item()\n",
    "    print(f\"\\tEnsemble accuracy max vote: {accuracy:.4f}\")\n",
    "\n",
    "    # Mean vote approach\n",
    "    predictions = predictions.mean(dim=0)\n",
    "    final_predictions = torch.argmax(predictions, dim=1)\n",
    "    accuracy = (final_predictions == y_val).float().mean().item()\n",
    "    print(f\"\\tEnsemble accuracy mean vote: {accuracy:.4f}\")"
   ]
  }
 ],
 "metadata": {
  "kernelspec": {
   "display_name": "base",
   "language": "python",
   "name": "python3"
  },
  "language_info": {
   "codemirror_mode": {
    "name": "ipython",
    "version": 3
   },
   "file_extension": ".py",
   "mimetype": "text/x-python",
   "name": "python",
   "nbconvert_exporter": "python",
   "pygments_lexer": "ipython3",
   "version": "3.12.2"
  }
 },
 "nbformat": 4,
 "nbformat_minor": 2
}

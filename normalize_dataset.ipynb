{
 "cells": [
  {
   "cell_type": "code",
   "execution_count": 1,
   "metadata": {},
   "outputs": [],
   "source": [
    "import os\n",
    "import numpy as np\n",
    "from PIL import Image"
   ]
  },
  {
   "cell_type": "code",
   "execution_count": 2,
   "metadata": {},
   "outputs": [],
   "source": [
    "image_dir = './data/weather-dataset'\n",
    "image_paths = []\n",
    "for root, dirs, files in os.walk(image_dir):\n",
    "    for file in files:\n",
    "        if file.endswith('.jpg') or file.endswith('.jpeg') or file.endswith('.png'):\n",
    "            image_paths.append(os.path.join(root, file))"
   ]
  },
  {
   "cell_type": "code",
   "execution_count": 3,
   "metadata": {},
   "outputs": [
    {
     "name": "stdout",
     "output_type": "stream",
     "text": [
      "Mean: [0.51709254 0.52528804 0.5059519 ]\n",
      "Standard Deviation: [0.19718366 0.1912176  0.19777991]\n"
     ]
    }
   ],
   "source": [
    "def calculate_mean_std(image_paths):\n",
    "    mean = np.zeros(3)\n",
    "    std = np.zeros(3)\n",
    "    n_images = len(image_paths)\n",
    "    for image_path in image_paths:\n",
    "        with Image.open(image_path) as img:\n",
    "            img = img.convert('RGB')\n",
    "            img = np.array(img)\n",
    "            mean += np.mean(img, axis=(0, 1))\n",
    "            std += np.std(img, axis=(0, 1))\n",
    "    mean /= n_images\n",
    "    std /= n_images\n",
    "    return mean, std\n",
    "\n",
    "\n",
    "mean, std = calculate_mean_std(image_paths)\n",
    "\n",
    "print(\"Mean:\", mean / 255)\n",
    "print(\"Standard Deviation:\", std / 255)\n"
   ]
  }
 ],
 "metadata": {
  "kernelspec": {
   "display_name": "base",
   "language": "python",
   "name": "python3"
  },
  "language_info": {
   "codemirror_mode": {
    "name": "ipython",
    "version": 3
   },
   "file_extension": ".py",
   "mimetype": "text/x-python",
   "name": "python",
   "nbconvert_exporter": "python",
   "pygments_lexer": "ipython3",
   "version": "3.12.2"
  }
 },
 "nbformat": 4,
 "nbformat_minor": 2
}

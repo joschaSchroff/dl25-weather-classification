{
 "cells": [
  {
   "cell_type": "code",
   "execution_count": 1,
   "metadata": {},
   "outputs": [
    {
     "name": "stderr",
     "output_type": "stream",
     "text": [
      "/tmp/ipykernel_18895/366368911.py:11: FutureWarning: You are using `torch.load` with `weights_only=False` (the current default value), which uses the default pickle module implicitly. It is possible to construct malicious pickle data which will execute arbitrary code during unpickling (See https://github.com/pytorch/pytorch/blob/main/SECURITY.md#untrusted-models for more details). In a future release, the default value for `weights_only` will be flipped to `True`. This limits the functions that could be executed during unpickling. Arbitrary objects will no longer be allowed to be loaded via this mode unless they are explicitly allowlisted by the user via `torch.serialization.add_safe_globals`. We recommend you start setting `weights_only=True` for any use case where you don't have full control of the loaded file. Please open an issue on GitHub for any issues related to this experimental feature.\n",
      "  state_dict = torch.load(ckpt_path, map_location=torch.device('cpu'))['state_dict']\n",
      "/home/joscha/miniconda3/lib/python3.12/site-packages/torchvision/models/_utils.py:135: UserWarning: Using 'weights' as positional parameter(s) is deprecated since 0.13 and may be removed in the future. Please use keyword parameter(s) instead.\n",
      "  warnings.warn(\n"
     ]
    }
   ],
   "source": [
    "from data_loading import get_val_transforms, WeatherDataModule\n",
    "import torch\n",
    "\n",
    "import model as m\n",
    "\n",
    "model_names = [\"efficientnetb0\", \"efficientnetb1\", \"mobilenet\", \"resnet50\", \"swin\"]\n",
    "ckpt_paths = [\"models/efficientnetb0-val_acc=0.93.ckpt\", \"models/efficientnetb1-val_acc=0.92.ckpt\", \"models/mobilenet-val_acc=0.90.ckpt\", \"models/resnet50-val_acc=0.93.ckpt\", \"models/swin-val_acc=0.93.ckpt\"]\n",
    "models = []\n",
    "for model_name, ckpt_path in zip(model_names, ckpt_paths):\n",
    "    model = m.get_base_model(model_name, 11)\n",
    "    state_dict = torch.load(ckpt_path, map_location=torch.device('cpu'))['state_dict']\n",
    "    for key in list(state_dict.keys()):\n",
    "        state_dict[key.replace(\"model.\", \"\")] = state_dict.pop(key)\n",
    "    model.load_state_dict(state_dict,strict=False)\n",
    "    models.append(model)\n",
    "model_names = [\"resnet50\", \"efficientnetb0\", \"efficientnetb1\", \"mobilenet\", \"swin\"]"
   ]
  },
  {
   "cell_type": "code",
   "execution_count": 2,
   "metadata": {},
   "outputs": [],
   "source": [
    "datamodule = WeatherDataModule(\"./data/weather-dataset\", 32, 1, get_val_transforms(), get_val_transforms())\n",
    "datamodule.setup()\n",
    "test_dataloader = datamodule.test_dataloader()\n",
    "X_val = []\n",
    "y_val = []\n",
    "for images, labels in test_dataloader:\n",
    "    X_val.append(images)\n",
    "    y_val.append(labels)\n",
    "X_val = torch.cat(X_val)\n",
    "y_val = torch.cat(y_val)"
   ]
  },
  {
   "cell_type": "code",
   "execution_count": 3,
   "metadata": {},
   "outputs": [
    {
     "name": "stdout",
     "output_type": "stream",
     "text": [
      "Running model resnet50\n",
      "Running model efficientnetb0\n",
      "Running model efficientnetb1\n",
      "Running model mobilenet\n",
      "Running model swin\n"
     ]
    }
   ],
   "source": [
    "predictions = []\n",
    "X_val = X_val.to(\"cuda\")\n",
    "for model in models:\n",
    "    print(f\"Running model {model_names[models.index(model)]}\")\n",
    "    model.to(\"cuda\")\n",
    "    model.eval()\n",
    "    model_predictions = []\n",
    "    with torch.no_grad():\n",
    "        for batch in X_val.split(32):\n",
    "            model_predictions.append(model(batch))\n",
    "        model_predictions = torch.cat(model_predictions)\n",
    "        predictions.append(model_predictions)"
   ]
  },
  {
   "cell_type": "code",
   "execution_count": 4,
   "metadata": {},
   "outputs": [
    {
     "name": "stdout",
     "output_type": "stream",
     "text": [
      "Ensemble accuracy max vote: 0.9359\n",
      "Ensemble accuracy mean vote: 0.9388\n"
     ]
    }
   ],
   "source": [
    "predictions = torch.stack(predictions)\n",
    "final_predictions = torch.mode(predictions, dim=0).values\n",
    "final_predictions = torch.argmax(final_predictions, dim=1)\n",
    "y_val = y_val.to(\"cuda\")\n",
    "accuracy = (final_predictions == y_val).float().mean().item()\n",
    "print(f\"Ensemble accuracy max vote: {accuracy:.4f}\")\n",
    "predictions = predictions.mean(dim=0)\n",
    "final_predictions = torch.argmax(predictions, dim=1)\n",
    "accuracy = (final_predictions == y_val).float().mean().item()\n",
    "print(f\"Ensemble accuracy mean vote: {accuracy:.4f}\")"
   ]
  }
 ],
 "metadata": {
  "kernelspec": {
   "display_name": "base",
   "language": "python",
   "name": "python3"
  },
  "language_info": {
   "codemirror_mode": {
    "name": "ipython",
    "version": 3
   },
   "file_extension": ".py",
   "mimetype": "text/x-python",
   "name": "python",
   "nbconvert_exporter": "python",
   "pygments_lexer": "ipython3",
   "version": "3.12.2"
  }
 },
 "nbformat": 4,
 "nbformat_minor": 2
}

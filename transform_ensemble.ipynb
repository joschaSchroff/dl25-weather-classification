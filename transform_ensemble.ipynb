{
 "cells": [
  {
   "cell_type": "markdown",
   "metadata": {},
   "source": [
    "# Transform Ensemble\n",
    "In this notebook each model does multiple predictions for each image with different transformations and then averages the predictions. We use the training transforms as they are randomly applied each time."
   ]
  },
  {
   "cell_type": "code",
   "execution_count": 1,
   "metadata": {},
   "outputs": [],
   "source": [
    "import model as m\n",
    "import torch\n",
    "from data_loading import WeatherDataModule, get_transforms"
   ]
  },
  {
   "cell_type": "markdown",
   "metadata": {},
   "source": [
    "Change Values below to use different models"
   ]
  },
  {
   "cell_type": "code",
   "execution_count": 2,
   "metadata": {},
   "outputs": [],
   "source": [
    "model_keys = [\"efficientnetb0\", \"efficientnetb1\", \"mobilenet\", \"resnet50\", \"swin\"]\n",
    "model_names = [\"EfficientnetB0\", \"EfficientnetB1\", \"MobileNetV2\", \"ResNet50\", \"Swin-T\"]\n",
    "ckpt_paths = [\"models/efficientnetb0-val_acc=0.93.ckpt\", \"models/efficientnetb1-val_acc=0.92.ckpt\", \"models/mobilenet-val_acc=0.90.ckpt\", \"models/resnet50-val_acc=0.93.ckpt\", \"models/swin-val_acc=0.93.ckpt\"]"
   ]
  },
  {
   "cell_type": "code",
   "execution_count": 3,
   "metadata": {},
   "outputs": [],
   "source": [
    "num_imgs = 5 # number of different transformed images per image"
   ]
  },
  {
   "cell_type": "code",
   "execution_count": 4,
   "metadata": {},
   "outputs": [
    {
     "name": "stdout",
     "output_type": "stream",
     "text": [
      "Loaded EfficientnetB0 with models/efficientnetb0-val_acc=0.93.ckpt\n",
      "Loaded EfficientnetB1 with models/efficientnetb1-val_acc=0.92.ckpt\n",
      "Loaded MobileNetV2 with models/mobilenet-val_acc=0.90.ckpt\n",
      "Loaded ResNet50 with models/resnet50-val_acc=0.93.ckpt\n"
     ]
    },
    {
     "name": "stderr",
     "output_type": "stream",
     "text": [
      "/home/joscha/miniconda3/lib/python3.12/site-packages/torchvision/models/_utils.py:135: UserWarning: Using 'weights' as positional parameter(s) is deprecated since 0.13 and may be removed in the future. Please use keyword parameter(s) instead.\n",
      "  warnings.warn(\n"
     ]
    },
    {
     "name": "stdout",
     "output_type": "stream",
     "text": [
      "Loaded Swin-T with models/swin-val_acc=0.93.ckpt\n"
     ]
    }
   ],
   "source": [
    "# Load models\n",
    "models = []\n",
    "for model_name, model_key, ckpt_path in zip(model_names, model_keys, ckpt_paths):\n",
    "    model = m.get_base_model(model_key, 11)\n",
    "    state_dict = torch.load(ckpt_path, weights_only=True, map_location=torch.device('cpu'))['state_dict']\n",
    "    for key in list(state_dict.keys()):\n",
    "        state_dict[key.replace(\"model.\", \"\")] = state_dict.pop(key)\n",
    "    model.load_state_dict(state_dict,strict=False)\n",
    "    models.append(model)\n",
    "    print(f\"Loaded {model_name} with {ckpt_path}\")"
   ]
  },
  {
   "cell_type": "code",
   "execution_count": 5,
   "metadata": {},
   "outputs": [],
   "source": [
    "# load data\n",
    "datamodule = WeatherDataModule(\"./data/weather-dataset\", 32, 1, get_transforms(), get_transforms())\n",
    "datamodule.setup()\n",
    "test_dataloader = datamodule.test_dataloader()"
   ]
  },
  {
   "cell_type": "code",
   "execution_count": 6,
   "metadata": {},
   "outputs": [],
   "source": [
    "# load images with different transformations\n",
    "X_vals = []\n",
    "y_vals = []\n",
    "for _ in range(num_imgs):\n",
    "    X_batch = []\n",
    "    y_batch = []\n",
    "    for images, labels in test_dataloader:\n",
    "        X_batch.append(images)\n",
    "        y_batch.append(labels)\n",
    "    X_vals.append(torch.cat(X_batch))\n",
    "    y_vals.append(torch.cat(y_batch))"
   ]
  },
  {
   "cell_type": "code",
   "execution_count": 7,
   "metadata": {},
   "outputs": [
    {
     "name": "stdout",
     "output_type": "stream",
     "text": [
      "Model: EfficientnetB0\n",
      "\tEnsemble accuracy max vote: 89.5%\n",
      "\tEnsemble accuracy mean vote: 91.8%\n",
      "Model: EfficientnetB1\n",
      "\tEnsemble accuracy max vote: 88.4%\n",
      "\tEnsemble accuracy mean vote: 91.0%\n",
      "Model: MobileNetV2\n",
      "\tEnsemble accuracy max vote: 84.2%\n",
      "\tEnsemble accuracy mean vote: 87.7%\n",
      "Model: ResNet50\n",
      "\tEnsemble accuracy max vote: 88.9%\n",
      "\tEnsemble accuracy mean vote: 90.7%\n",
      "Model: Swin-T\n",
      "\tEnsemble accuracy max vote: 91.7%\n",
      "\tEnsemble accuracy mean vote: 93.5%\n"
     ]
    }
   ],
   "source": [
    "for model, model_name in zip(models, model_names):\n",
    "    print(f\"Model: {model_name}\")  \n",
    "    y_val = y_vals[0]\n",
    "\n",
    "    device = \"cuda\" if torch.cuda.is_available() else \"cpu\"\n",
    "    model.to(device)\n",
    "    model.eval()\n",
    "\n",
    "    predictions = []\n",
    "    with torch.no_grad():\n",
    "        for X_val in X_vals:\n",
    "            val_preds = []\n",
    "            for batch in X_val.split(32):\n",
    "                batch = batch.to(device)\n",
    "                batch_preds = model(batch)\n",
    "                val_preds.append(batch_preds)\n",
    "            predictions.append(torch.cat(val_preds))\n",
    "\n",
    "    # Max Vote approach\n",
    "    predictions = torch.stack(predictions)\n",
    "    final_predictions = torch.mode(predictions, dim=0).values  # Majority voting\n",
    "    final_predictions = torch.argmax(final_predictions, dim=1)\n",
    "    y_val = y_val.to(device)\n",
    "    accuracy = (final_predictions == y_val).float().mean().item() * 100\n",
    "    print(f\"\\tEnsemble accuracy max vote: {accuracy:.1f}%\")\n",
    "\n",
    "    # Mean vote approach\n",
    "    predictions = predictions.mean(dim=0)\n",
    "    final_predictions = torch.argmax(predictions, dim=1)\n",
    "    accuracy = (final_predictions == y_val).float().mean().item() * 100\n",
    "    print(f\"\\tEnsemble accuracy mean vote: {accuracy:.1f}%\")"
   ]
  }
 ],
 "metadata": {
  "kernelspec": {
   "display_name": "base",
   "language": "python",
   "name": "python3"
  },
  "language_info": {
   "codemirror_mode": {
    "name": "ipython",
    "version": 3
   },
   "file_extension": ".py",
   "mimetype": "text/x-python",
   "name": "python",
   "nbconvert_exporter": "python",
   "pygments_lexer": "ipython3",
   "version": "3.12.8"
  }
 },
 "nbformat": 4,
 "nbformat_minor": 2
}

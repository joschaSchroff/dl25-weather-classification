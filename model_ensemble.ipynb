{
 "cells": [
  {
   "cell_type": "markdown",
   "metadata": {},
   "source": [
    "# Model Ensemble\n",
    "In this notebook, we will do the predictions using all our models and averaging the results.\\\n",
    "We will do that using two different approaches:\n",
    "1. Averaging the softmax probabilities of the models and then taking the class with the highest probability.\n",
    "2. Deciding the class based on the majority vote of the models.\n",
    "\n"
   ]
  },
  {
   "cell_type": "code",
   "execution_count": 1,
   "metadata": {},
   "outputs": [],
   "source": [
    "import torch\n",
    "import model as m\n",
    "from data_loading import get_val_transforms, WeatherDataModule"
   ]
  },
  {
   "cell_type": "code",
   "execution_count": 2,
   "metadata": {},
   "outputs": [],
   "source": [
    "model_keys = [\"efficientnetb0\", \"efficientnetb1\", \"mobilenet\", \"resnet50\", \"swin\"]\n",
    "model_names = [\"EfficientnetB0\", \"EfficientnetB1\", \"MobileNetV2\", \"ResNet50\", \"Swin-T\"]\n",
    "ckpt_paths = [\"models/efficientnetb0-val_acc=0.93.ckpt\", \"models/efficientnetb1-val_acc=0.92.ckpt\", \"models/mobilenet-val_acc=0.90.ckpt\", \"models/resnet50-val_acc=0.93.ckpt\", \"models/swin-val_acc=0.93.ckpt\"]"
   ]
  },
  {
   "cell_type": "code",
   "execution_count": 3,
   "metadata": {},
   "outputs": [
    {
     "name": "stderr",
     "output_type": "stream",
     "text": [
      "/home/joscha/miniconda3/lib/python3.12/site-packages/torchvision/models/_utils.py:135: UserWarning: Using 'weights' as positional parameter(s) is deprecated since 0.13 and may be removed in the future. Please use keyword parameter(s) instead.\n",
      "  warnings.warn(\n"
     ]
    }
   ],
   "source": [
    "models = []\n",
    "for model_name, model_key, ckpt_path in zip(model_names, model_keys, ckpt_paths):\n",
    "    model = m.get_base_model(model_key, 11)\n",
    "    state_dict = torch.load(ckpt_path, weights_only=True, map_location=torch.device('cpu'))['state_dict']\n",
    "    for key in list(state_dict.keys()):\n",
    "        state_dict[key.replace(\"model.\", \"\")] = state_dict.pop(key)\n",
    "    model.load_state_dict(state_dict,strict=False)\n",
    "    models.append(model)"
   ]
  },
  {
   "cell_type": "code",
   "execution_count": 4,
   "metadata": {},
   "outputs": [],
   "source": [
    "datamodule = WeatherDataModule(\"./data/weather-dataset\", 32, 1, get_val_transforms(), get_val_transforms())\n",
    "datamodule.setup()\n",
    "test_dataloader = datamodule.test_dataloader()\n",
    "X_val = []\n",
    "y_val = []\n",
    "for images, labels in test_dataloader:\n",
    "    X_val.append(images)\n",
    "    y_val.append(labels)\n",
    "X_val = torch.cat(X_val)\n",
    "y_val = torch.cat(y_val)"
   ]
  },
  {
   "cell_type": "code",
   "execution_count": 5,
   "metadata": {},
   "outputs": [
    {
     "name": "stdout",
     "output_type": "stream",
     "text": [
      "Running model EfficientnetB0\n",
      "Running model EfficientnetB1\n",
      "Running model MobileNetV2\n",
      "Running model ResNet50\n",
      "Running model Swin-T\n"
     ]
    }
   ],
   "source": [
    "predictions = []\n",
    "X_val = X_val.to(\"cuda\")\n",
    "for model in models:\n",
    "    print(f\"Running model {model_names[models.index(model)]}\")\n",
    "    model.to(\"cuda\")\n",
    "    model.eval()\n",
    "    model_predictions = []\n",
    "    with torch.no_grad():\n",
    "        for batch in X_val.split(32):\n",
    "            model_predictions.append(model(batch))\n",
    "        model_predictions = torch.cat(model_predictions)\n",
    "        predictions.append(model_predictions)"
   ]
  },
  {
   "cell_type": "code",
   "execution_count": 6,
   "metadata": {},
   "outputs": [
    {
     "name": "stdout",
     "output_type": "stream",
     "text": [
      "Ensemble accuracy max vote: 93.6%\n",
      "Ensemble accuracy mean vote: 93.9%\n"
     ]
    }
   ],
   "source": [
    "predictions = torch.stack(predictions)\n",
    "final_predictions = torch.mode(predictions, dim=0).values\n",
    "final_predictions = torch.argmax(final_predictions, dim=1)\n",
    "y_val = y_val.to(\"cuda\")\n",
    "accuracy = (final_predictions == y_val).float().mean().item() * 100\n",
    "print(f\"Ensemble accuracy max vote: {accuracy:.1f}%\")\n",
    "predictions = predictions.mean(dim=0)\n",
    "final_predictions = torch.argmax(predictions, dim=1)\n",
    "accuracy = (final_predictions == y_val).float().mean().item() * 100\n",
    "print(f\"Ensemble accuracy mean vote: {accuracy:.1f}%\")"
   ]
  }
 ],
 "metadata": {
  "kernelspec": {
   "display_name": "base",
   "language": "python",
   "name": "python3"
  },
  "language_info": {
   "codemirror_mode": {
    "name": "ipython",
    "version": 3
   },
   "file_extension": ".py",
   "mimetype": "text/x-python",
   "name": "python",
   "nbconvert_exporter": "python",
   "pygments_lexer": "ipython3",
   "version": "3.12.2"
  }
 },
 "nbformat": 4,
 "nbformat_minor": 2
}
